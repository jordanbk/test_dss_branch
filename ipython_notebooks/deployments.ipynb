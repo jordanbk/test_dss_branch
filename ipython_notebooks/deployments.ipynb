{
  "metadata": {
    "kernelspec": {
      "name": "py-dku-venv-py37",
      "display_name": "Python (env py37)",
      "language": "python"
    },
    "creator": "admin",
    "createdOn": 1681852264297,
    "tags": [],
    "customFields": {},
    "hide_input": false,
    "language_info": {
      "name": "python",
      "version": "3.7.13",
      "mimetype": "text/x-python",
      "codemirror_mode": {
        "name": "ipython",
        "version": 3
      },
      "pygments_lexer": "ipython3",
      "nbconvert_exporter": "python",
      "file_extension": ".py"
    },
    "modifiedBy": "admin"
  },
  "nbformat": 4,
  "nbformat_minor": 1,
  "cells": [
    {
      "execution_count": 0,
      "cell_type": "code",
      "metadata": {},
      "source": [
        "%pylab inline"
      ],
      "outputs": []
    },
    {
      "execution_count": 0,
      "cell_type": "code",
      "metadata": {},
      "source": [
        "import dataiku\nfrom dataiku import pandasutils as pdu\nimport pandas as pd"
      ],
      "outputs": []
    },
    {
      "execution_count": 0,
      "cell_type": "code",
      "metadata": {},
      "source": [
        "client \u003d dataiku.api_client()\nproject \u003d client.get_project(\"GIT\")\ndeployer \u003d client.get_projectdeployer()\nfor d in deployer.list_deployments():\n    settings \u003d d.get_settings()\n    deployment_id \u003d settings.get_raw()[\u0027id\u0027]\n    deployment_proj \u003d settings.get_raw()[\u0027publishedProjectKey\u0027]\n    print(f\u0027{deployment_id} deployed from {deployment_proj}\u0027)"
      ],
      "outputs": []
    },
    {
      "execution_count": 0,
      "cell_type": "code",
      "metadata": {},
      "source": [
        "client \u003d dataiku.api_client()\nproject \u003d client.get_project(\"GIT\")\ndeployer \u003d client.get_projectdeployer()\ndeployment \u003d deployer.get_deployment(\"GIT-on-automation\")\ndeployment"
      ],
      "outputs": []
    },
    {
      "execution_count": 0,
      "cell_type": "code",
      "metadata": {},
      "source": [
        "deployment \u003d deployer.get_deployment(\"GIT-on-automation\")\ndeployment_settings \u003d deployment.get_settings()\nconnection \u003d deployment_settings.get_raw()[\"bundleContainerSettings\"][\"remapping\"][\"connections\"].append({\u0027source\u0027: \u0027jordan-s3-bucket\u0027, \u0027target\u0027: \u0027jordan-s3-bucket\u0027})\ndeployment_settings.save()"
      ],
      "outputs": []
    },
    {
      "execution_count": 0,
      "cell_type": "code",
      "metadata": {},
      "source": [
        ""
      ],
      "outputs": []
    }
  ]
}