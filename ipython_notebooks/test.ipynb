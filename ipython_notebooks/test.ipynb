{
  "metadata": {
    "kernelspec": {
      "name": "python3",
      "display_name": "Python 3",
      "language": "python"
    },
    "creator": "admin",
    "createdOn": 1680822566928,
    "tags": [],
    "customFields": {},
    "hide_input": false,
    "language_info": {
      "name": "python",
      "version": "3.7.13",
      "mimetype": "text/x-python",
      "codemirror_mode": {
        "name": "ipython",
        "version": 3
      },
      "pygments_lexer": "ipython3",
      "nbconvert_exporter": "python",
      "file_extension": ".py"
    },
    "modifiedBy": "admin"
  },
  "nbformat": 4,
  "nbformat_minor": 1,
  "cells": [
    {
      "execution_count": 0,
      "cell_type": "code",
      "metadata": {},
      "source": [
        "%pylab inline"
      ],
      "outputs": []
    },
    {
      "execution_count": 0,
      "cell_type": "code",
      "metadata": {},
      "source": [
        "import dataiku\nclient \u003d dataiku.api_client()\nproject \u003d client.get_project(\"GIT\")\n\nflow \u003d project.get_flow()\nflow_graph \u003d flow.get_graph()\nflow_graph.get_successor_computables().items()"
      ],
      "outputs": []
    },
    {
      "execution_count": 0,
      "cell_type": "code",
      "metadata": {},
      "source": [
        "import dataiku\nclient \u003d dataiku.api_client()\nprojects \u003d client.list_project_keys()\ncurrent_connections \u003d []\nfor proj in projects:\n    project \u003d client.get_project(proj)\n    all_datasets \u003d project.list_datasets()\n    for dataset in all_datasets:\n        current_connections.append(dataset.connection)\n        print(dataset.connection)"
      ],
      "outputs": []
    },
    {
      "execution_count": 0,
      "cell_type": "code",
      "metadata": {},
      "source": [
        "client \u003d dataiku.api_client()\nall_connections \u003d []\ndss_connections \u003d client.list_connections()\nfor conn in dss_connections:\n    connection \u003d client.get_connection(conn)\n    all_connections.append(connection.name)\n    print(connection.name)"
      ],
      "outputs": []
    },
    {
      "execution_count": 0,
      "cell_type": "code",
      "metadata": {},
      "source": [
        "dif \u003d []\nfor element in li1:\n    if element not in li2:\n        temp3.append(element)"
      ],
      "outputs": []
    },
    {
      "execution_count": 0,
      "cell_type": "code",
      "metadata": {},
      "source": [
        ""
      ],
      "outputs": []
    }
  ]
}