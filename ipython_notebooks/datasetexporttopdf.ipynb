{
  "metadata": {
    "kernelspec": {
      "name": "py-dku-venv-py37",
      "display_name": "Python (env py37)",
      "language": "python"
    },
    "creator": "admin",
    "createdOn": 1682533973402,
    "tags": [],
    "customFields": {},
    "hide_input": false,
    "language_info": {
      "name": "python",
      "version": "3.7.13",
      "mimetype": "text/x-python",
      "codemirror_mode": {
        "name": "ipython",
        "version": 3
      },
      "pygments_lexer": "ipython3",
      "nbconvert_exporter": "python",
      "file_extension": ".py"
    },
    "modifiedBy": "admin"
  },
  "nbformat": 4,
  "nbformat_minor": 1,
  "cells": [
    {
      "execution_count": 0,
      "cell_type": "code",
      "metadata": {},
      "source": [
        "%pylab inline"
      ],
      "outputs": []
    },
    {
      "execution_count": 0,
      "cell_type": "code",
      "metadata": {},
      "source": [
        "import dataiku\nfrom dataiku import pandasutils as pdu\nimport pandas as pd\nimport numpy as np\nimport matplotlib.pyplot as plt\nfrom matplotlib.backends.backend_pdf import PdfPages"
      ],
      "outputs": []
    },
    {
      "execution_count": 0,
      "cell_type": "code",
      "metadata": {},
      "source": [
        "mydataset \u003d dataiku.Dataset(\"AppleStore\")\ndf \u003d mydataset.get_dataframe()\n\nfig, ax \u003dplt.subplots(figsize\u003d(12,4))\nax.axis(\u0027tight\u0027)\nax.axis(\u0027off\u0027)\nthe_table \u003d ax.table(cellText\u003ddf.values,colLabels\u003ddf.columns,loc\u003d\u0027center\u0027)\npath \u003d \"/Users/jordanburke/Library/DataScienceStudio/dss_home/tmp/\"\npp \u003d PdfPages(path + \"foo.pdf\")\npp.savefig(fig, bbox_inches\u003d\u0027tight\u0027)\npp.close()"
      ],
      "outputs": []
    },
    {
      "execution_count": 0,
      "cell_type": "code",
      "metadata": {},
      "source": [
        ""
      ],
      "outputs": []
    }
  ]
}