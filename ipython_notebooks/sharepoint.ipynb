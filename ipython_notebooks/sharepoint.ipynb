{
  "metadata": {
    "kernelspec": {
      "name": "py-dku-venv-py37",
      "display_name": "Python (env py37)",
      "language": "python"
    },
    "creator": "admin",
    "createdOn": 1682438400402,
    "tags": [],
    "customFields": {},
    "hide_input": false,
    "language_info": {
      "name": "python",
      "version": "3.7.13",
      "mimetype": "text/x-python",
      "codemirror_mode": {
        "name": "ipython",
        "version": 3
      },
      "pygments_lexer": "ipython3",
      "nbconvert_exporter": "python",
      "file_extension": ".py"
    },
    "modifiedBy": "admin"
  },
  "nbformat": 4,
  "nbformat_minor": 1,
  "cells": [
    {
      "execution_count": 0,
      "cell_type": "code",
      "metadata": {},
      "source": [
        "%pylab inline"
      ],
      "outputs": []
    },
    {
      "execution_count": 0,
      "cell_type": "code",
      "metadata": {},
      "source": [
        "import dataiku\nfrom dataiku import pandasutils as pdu\nimport pandas as pd"
      ],
      "outputs": []
    },
    {
      "execution_count": 0,
      "cell_type": "code",
      "metadata": {},
      "source": [
        "folder \u003d dataiku.Folder(\"e4onN8Hu\")\nprint(folder.list_paths_in_partition())\nwith folder.get_download_stream(\"/orders.csv/orders.csv\") as f:\n    data \u003d f.read()\nprint(pd.read_csv(data))"
      ],
      "outputs": []
    },
    {
      "execution_count": 0,
      "cell_type": "code",
      "metadata": {},
      "source": [
        ""
      ],
      "outputs": []
    }
  ]
}