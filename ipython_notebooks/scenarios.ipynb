{
  "metadata": {
    "kernelspec": {
      "name": "py-dku-venv-py37",
      "display_name": "Python (env py37)",
      "language": "python"
    },
    "creator": "admin",
    "createdOn": 1681918439098,
    "tags": [],
    "customFields": {},
    "hide_input": false,
    "language_info": {
      "name": "python",
      "version": "3.7.13",
      "mimetype": "text/x-python",
      "codemirror_mode": {
        "name": "ipython",
        "version": 3
      },
      "pygments_lexer": "ipython3",
      "nbconvert_exporter": "python",
      "file_extension": ".py"
    },
    "modifiedBy": "admin"
  },
  "nbformat": 4,
  "nbformat_minor": 1,
  "cells": [
    {
      "execution_count": 0,
      "cell_type": "code",
      "metadata": {},
      "source": [
        "%pylab inline"
      ],
      "outputs": []
    },
    {
      "execution_count": 0,
      "cell_type": "code",
      "metadata": {},
      "source": [
        "import dataiku\nfrom dataiku import pandasutils as pdu\nimport pandas as pd"
      ],
      "outputs": []
    },
    {
      "execution_count": 0,
      "cell_type": "code",
      "metadata": {},
      "source": [
        "client \u003d dataiku.api_client()\nproject \u003d client.get_project(\"GIT\")\nscenario \u003d project.get_scenario(\"steps\")\nsettings \u003d scenario.get_settings()\nraw \u003d settings.get_raw()\nraw"
      ],
      "outputs": []
    },
    {
      "execution_count": 0,
      "cell_type": "code",
      "metadata": {},
      "source": [
        "# This sample code helps you get started with the custom scenario API.\n#For more details and samples, please see our Documentation\nfrom dataiku.scenario import Scenario\n\n# The Scenario object is the main handle from which you initiate steps\nscenario \u003d Scenario()\n# client \u003d dataiku.api_client()\n# project \u003d client.get_project(\"GIT\")\n# scenario \u003d project.get_scenario(\"steps\")\n# A few example steps follow\n\n# Sending custom reports\nsender \u003d scenario.get_message_sender(channel_id \u003d  \"gmail\") # A messaging channel\nsender.set_params(sender\u003d\"jordan.burke@dataiku.com\", recipient\u003d\"jordan.burke@dataiku.com\")\n\n#attachments \u003d[ {\u0027type\u0027: \u0027DATASET\u0027,\u0027params\u0027:{\u0027attachedDataset\u0027: \"customers_discrete\",\u0027partitionId\u0027: \"s3\"}}]\nrecipientmail \u003d \"jordan.burke@dataiku.com\"\nsender.set_params(sender\u003d\"jordan.burke@dataiku.com\", \n             recipient\u003d\"jordan.burke@dataiku.com\", #multiple emails \n             #attachments \u003d attachments,\n             subject\u003d\"Hello Jordan\", \n             message\u003d\"Test to test the testy test.\")\nsender.send()"
      ],
      "outputs": []
    },
    {
      "execution_count": 0,
      "cell_type": "code",
      "metadata": {},
      "source": [
        "import dataiku\nclient \u003d dataiku.api_client()\nscenario \u003d client.get_project(\"GIT\").get_scenario(\"steps\")\ndefinition \u003d scenario.get_definition(with_status\u003dFalse)[\"messaging\"][\"configuration\"][\"recipient\"] \u003d \"jordanburke256@gmail.com\"\nscenario.set_definition(definition, with_status\u003dFalse)\n\n#You need to make sure that the scenario you will be modifying with this code has already a Mail Report​."
      ],
      "outputs": []
    },
    {
      "execution_count": 0,
      "cell_type": "code",
      "metadata": {},
      "source": [
        "import dataiku\nclient \u003d dataiku.api_client()\nscenario \u003d client.get_project(\"GIT\").get_scenario(\"steps\")\nfor s in scenario:\n    settings \u003d scenario.get_settings()\n    for reporter in settings.raw_reporters:\n        if reporter[\"messaging\"][\"type\"] \u003d\u003d \"mail-scenario\":\n            messaging_configuration \u003d reporter[\"messaging\"][\"configuration\"][\"channelId\"] \u003d\u003d \"gmail\":\n\n            print(\"Updated reporter %s\" % reporter[\"id\"])"
      ],
      "outputs": []
    },
    {
      "execution_count": 0,
      "cell_type": "code",
      "metadata": {},
      "source": [
        ""
      ],
      "outputs": []
    }
  ]
}