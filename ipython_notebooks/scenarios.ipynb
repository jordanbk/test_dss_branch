{
  "metadata": {
    "kernelspec": {
      "name": "py-dku-venv-py37",
      "display_name": "Python (env py37)",
      "language": "python"
    },
    "creator": "admin",
    "createdOn": 1681918439098,
    "tags": [],
    "customFields": {},
    "hide_input": false,
    "language_info": {
      "name": "python",
      "version": "3.7.13",
      "mimetype": "text/x-python",
      "codemirror_mode": {
        "name": "ipython",
        "version": 3
      },
      "pygments_lexer": "ipython3",
      "nbconvert_exporter": "python",
      "file_extension": ".py"
    },
    "modifiedBy": "admin"
  },
  "nbformat": 4,
  "nbformat_minor": 1,
  "cells": [
    {
      "execution_count": 0,
      "cell_type": "code",
      "metadata": {},
      "source": [
        "%pylab inline"
      ],
      "outputs": []
    },
    {
      "execution_count": 0,
      "cell_type": "code",
      "metadata": {},
      "source": [
        "import dataiku\nfrom dataiku import pandasutils as pdu\nimport pandas as pd"
      ],
      "outputs": []
    },
    {
      "execution_count": 0,
      "cell_type": "code",
      "metadata": {},
      "source": [
        "client \u003d dataiku.api_client()\nproject \u003d client.get_project(\"GIT\")\nscenario \u003d project.get_scenario(\"steps\")\nsettings \u003d scenario.get_settings()\nraw \u003d settings.get_raw()\nraw"
      ],
      "outputs": []
    },
    {
      "execution_count": 0,
      "cell_type": "code",
      "metadata": {},
      "source": [
        "# This sample code helps you get started with the custom scenario API.\n#For more details and samples, please see our Documentation\nfrom dataiku.scenario import Scenario\n\n# The Scenario object is the main handle from which you initiate steps\nscenario \u003d Scenario()\n\n# Sending custom reports\nsender \u003d scenario.get_message_sender(channel_id \u003d \"gmail\") # A messaging channel\nsender.set_params(sender\u003d\"jordan.burke@dataiku.com\", recipient\u003d\"jordan.burke@dataiku.com\")\n\n\nsender."
      ],
      "outputs": []
    },
    {
      "execution_count": 0,
      "cell_type": "code",
      "metadata": {},
      "source": [
        "import dataiku\nclient \u003d dataiku.api_client()\nscenario \u003d client.get_project(\"GIT\").get_scenario(\"steps\")\nsettings \u003d scenario.get_settings().get_raw()[\u0027reporters\u0027][\u0027messaging\u0027][\u0027type\u0027] \u003d\u003d \"mail-scenario\"\n\nsettings.save()\n\n#You need to make sure that the scenario you will be modifying with this code has already a Mail Report​."
      ],
      "outputs": []
    },
    {
      "execution_count": 0,
      "cell_type": "code",
      "metadata": {},
      "source": [
        "import dataiku\nclient \u003d dataiku.api_client()\nscenario \u003d client.get_project(\"GIT\").get_scenario(\"steps\")\nsettings \u003d scenario.get_settings()\n#reporters \u003d settings.raw_reporters()\nfor n in range(len(settings.raw_reporters)):\n    print(reporters(n))\n#     if reporter[\"messaging\"][\"type\"] \u003d\u003d \"mail-scenario\":\n#         messaging_configuration \u003d reporter[\"messaging\"][\"configuration\"][\"channelId\"] \u003d\u003d \"gmail\"\n#         settings.save()\n"
      ],
      "outputs": []
    },
    {
      "execution_count": 0,
      "cell_type": "code",
      "metadata": {},
      "source": [
        "import dataiku\nclient \u003d dataiku.api_client()\nproject \u003d client.get_project(\"GIT\")\nfor scenario in project.list_scenarios(as_type\u003d\"objects\"):\n        settings \u003d scenario.get_settings().raw_reporters()\n        print(settings)\n#         for reporter in settings.raw_reporters:\n#             reporter[\"messaging\"][\"type\"] \u003d\u003d \"mail-scenario\"\n#             settings.save()\n"
      ],
      "outputs": []
    },
    {
      "execution_count": 0,
      "cell_type": "code",
      "metadata": {},
      "source": [
        "import dataiku\nclient \u003d dataiku.api_client()\nscenario \u003d client.get_project(\"GIT\").get_scenario(\"steps\")\nfor scenario in project.list_scenarios(as_type\u003d\"objects\"):\n        settings \u003d scenario.get_settings()\n        for reporter in settings.raw_reporters:\n            messaging_configuration \u003d reporter[\"messaging\"][\"configuration\"]\n            messaging_configuration[\"channelId\"] \u003d\u003d \"gmail\"\n            settings.save()\n\n                 "
      ],
      "outputs": []
    },
    {
      "execution_count": 0,
      "cell_type": "code",
      "metadata": {
        "code_folding": []
      },
      "source": [
        "import dataiku\nclient \u003d dataiku.api_client()\nscenario \u003d client.get_project(\"GIT\").get_scenario(\"steps\")\ns \u003d scenario.get_settings()\nsettings \u003d scenario.get_settings().raw_reporters\nrep \u003d {\u0027active\u0027: True,\n   \u0027messaging\u0027: {\u0027type\u0027: \u0027mail-scenario\u0027,\n    \u0027configuration\u0027: {\u0027channelId\u0027: \u0027gmail\u0027,\n     \u0027subject\u0027: \u0027DSS scenario ${scenarioName}: ${outcome}\u0027,\n     \u0027recipient\u0027: \u0027jordan.burke@dataiku.com\u0027,\n     \u0027sendAsHTML\u0027: False,\n     \u0027attachments\u0027: [],\n     \u0027messageSource\u0027: \u0027TEMPLATE_FILE\u0027,\n     \u0027templateFormat\u0027: \u0027FREEMARKER\u0027,\n     \u0027templateName\u0027: \u0027default.ftl\u0027}},\n   \u0027id\u0027: \u0027wRaqYPMP\u0027,\n   \u0027name\u0027: \u0027mail\u0027,\n   \u0027runConditionEnabled\u0027: True,\n   \u0027runCondition\u0027: \"outcome !\u003d \u0027SUCCESS\u0027\",\n   \u0027phase\u0027: \u0027END\u0027}\n\nsettings.append(rep)\ns.save()\n"
      ],
      "outputs": []
    },
    {
      "execution_count": 0,
      "cell_type": "code",
      "metadata": {},
      "source": [
        "import dataikuapi\nautomation_host \u003d \"DSS ip\"\nauto_api_key \u003d \"Global API Key\"\nauto_client \u003d dataikuapi.DSSClient(automation_host, api_key\u003dauto_api_key)\nprojects \u003d auto_client.list_project_keys()\ni \u003d 1\nfor project in projects:\n    print(i, project)\n    i \u003d i+1\n    project_automation \u003d auto_client.get_project(project)\n    \n    for scenario in project_automation.list_scenarios(as_type\u003d\"objects\"):\n        settings \u003d scenario.get_settings()\n        for reporter in settings.raw_reporters:\n            if reporter[\"messaging\"][\"type\"] \u003d\u003d \"mail-scenario\":\n                try:\n                    messaging_configuration \u003d reporter[\"messaging\"][\"configuration\"]\n                    if messaging_configuration[\"channelId\"] \u003d\u003d \"P3t840qV\":\n                        messaging_configuration[\"channelId\"] \u003d \"iM8HaTE5\"\n                        settings.save()\n                        print(\"project name is\", project + \"\u0026 scenario name value is:\", scenario)\n                except Exception as err:\n                    print(err)\n                print(\"Updated reporter %s\" % reporter[\"id\"])\n    if i \u003d\u003d 10:\n        break"
      ],
      "outputs": []
    }
  ]
}