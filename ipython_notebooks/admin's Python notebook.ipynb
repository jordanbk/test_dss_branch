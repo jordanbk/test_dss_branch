{
  "metadata": {
    "kernelspec": {
      "name": "py-dku-venv-py37",
      "display_name": "Python (env py37)",
      "language": "python"
    },
    "creator": "admin",
    "createdOn": 1681934819373,
    "tags": [],
    "customFields": {},
    "hide_input": false,
    "language_info": {
      "name": "python",
      "version": "3.7.13",
      "mimetype": "text/x-python",
      "codemirror_mode": {
        "name": "ipython",
        "version": 3
      },
      "pygments_lexer": "ipython3",
      "nbconvert_exporter": "python",
      "file_extension": ".py"
    },
    "modifiedBy": "admin"
  },
  "nbformat": 4,
  "nbformat_minor": 1,
  "cells": [
    {
      "execution_count": 0,
      "cell_type": "code",
      "metadata": {},
      "source": [
        "%pylab inline"
      ],
      "outputs": []
    },
    {
      "execution_count": 0,
      "cell_type": "code",
      "metadata": {},
      "source": [
        "import dataiku\nfrom dataiku import pandasutils as pdu\nimport pandas as pd"
      ],
      "outputs": []
    },
    {
      "execution_count": 0,
      "cell_type": "code",
      "metadata": {},
      "source": [
        "from dataiku.scenario import Scenario\nscenario \u003d Scenario()\n\n# Sending reports\nsender \u003d scenario.get_message_sender(channel_id \u003d \"gmail\") # You will need to set a messaging channel (Administration \u003e Settings \u003e Notifications \u0026 Integrations)\n\nsender.set_params(sender\u003d\"jordan.burke@dataiku.com\", recipient\u003d\"jordan.burke@dataiku.com\")\n\nattachments \u003d[ {\u0027type\u0027: \u0027DATASET\u0027,\u0027params\u0027:{\u0027attachedDataset\u0027: \"customers\",\u0027partitionId\u0027: \"s3\"}}]\nrecipientmail \u003d \"jordan.burke@dataiku.com\"\nsender.set_params(sender\u003d\"jordan.burke@dataiku.com\", \n             recipient\u003d\"jordan.burke@dataiku.com\",\n             attachments \u003d attachments,\n             subject\u003d\"Hello\", \n             message\u003d\"Testing.\")\nsender.send()"
      ],
      "outputs": []
    },
    {
      "execution_count": 0,
      "cell_type": "code",
      "metadata": {},
      "source": [
        "import dataiku\nfrom dataiku import pandasutils as pdu\nimport pandas as pd\n\nclient \u003d dataiku.api_client()\nproject \u003d client.get_project(\u0027GIT\u0027)\njobs \u003d project.list_jobs()\nprint(jobs)\nfor j in jobs:\n    job_id \u003d j[\u0027def\u0027][\u0027id\u0027]\n    job_name \u003d j[\u0027def\u0027][\u0027name\u0027]\n    if job_name \u003d\u003d \u0027Build apple-store-test (NP)\u0027:\n        #job \u003d project.get_job(job_id)\n        job_state \u003d j[\u0027state\u0027]\n        print(job_state)\n        "
      ],
      "outputs": []
    },
    {
      "execution_count": 0,
      "cell_type": "code",
      "metadata": {},
      "source": [
        "import dataiku\nfrom dataiku import pandasutils as pdu\nimport pandas as pd\n\nclient \u003d dataiku.api_client()\nproject \u003d client.get_project(\u0027GIT\u0027)\njobs \u003d project.list_jobs()\n#print(jobs)\nfor job in jobs:\n    job_id \u003d job[\u0027def\u0027][\u0027id\u0027]\n    job_name \u003d job[\u0027def\u0027][\u0027name\u0027]\n    job \u003d project.get_job(job_id)\n    job_state \u003d job.get_status()[\u0027baseStatus\u0027][\u0027state\u0027]\n    if job_name \u003d\u003d \u0027Build apple-store-test (NP)\u0027 and job_state \u003d\u003d \u0027RUNNING\u0027:\n        print(f\"{job_name} is running\")"
      ],
      "outputs": []
    },
    {
      "execution_count": 0,
      "cell_type": "code",
      "metadata": {},
      "source": [
        "dss_activity \u003d []\n\nimport dataiku\nclient \u003d dataiku.api_client()\nfor ua in client.list_users_activity():\n    print(ua.get_raw()[\u0027login\u0027], ua.last_successful_login)"
      ],
      "outputs": []
    },
    {
      "execution_count": 0,
      "cell_type": "code",
      "metadata": {},
      "source": [
        "userProps \u003d list()\ndss_users \u003d client.list_users()\nfor user in dss_users:\n    user \u003d client.get_user(user[\u0027login\u0027])\n    settings \u003d user.get_settings()\n    raw \u003d settings.get_raw()\n    for r in raw.values():\n        userProps.append(r)\nprint(userProps)"
      ],
      "outputs": []
    },
    {
      "execution_count": 0,
      "cell_type": "code",
      "metadata": {},
      "source": [
        ""
      ],
      "outputs": []
    }
  ]
}